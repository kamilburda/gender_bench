{
 "cells": [
  {
   "cell_type": "code",
   "execution_count": 1,
   "metadata": {},
   "outputs": [],
   "source": [
    "%load_ext autoreload\n",
    "%autoreload 2"
   ]
  },
  {
   "cell_type": "code",
   "execution_count": null,
   "metadata": {},
   "outputs": [
    {
     "name": "stderr",
     "output_type": "stream",
     "text": [
      "/home/vscode/.local/lib/python3.12/site-packages/tqdm/auto.py:21: TqdmWarning: IProgress not found. Please update jupyter and ipywidgets. See https://ipywidgets.readthedocs.io/en/stable/user_install.html\n",
      "  from .autonotebook import tqdm as notebook_tqdm\n",
      "Generating: 100%|██████████| 7332/7332 [00:00<00:00, 870390.49it/s]\n",
      "Generating: 100%|██████████| 3565/3565 [00:00<00:00, 535248.20it/s]\n",
      "Generating: 100%|██████████| 149/149 [00:00<00:00, 116508.44it/s]\n",
      "Generating: 100%|██████████| 339/339 [00:00<00:00, 511647.74it/s]\n",
      "Generating: 100%|██████████| 2084/2084 [00:00<00:00, 1253179.86it/s]\n",
      "Generating: 100%|██████████| 20000/20000 [00:00<00:00, 1407319.27it/s]\n",
      "/workspaces/genderak/src/genderak/probes/decision_making/hiring_an/hiring_an_metric_calculator.py:92: RuntimeWarning: Mean of empty slice\n",
      "  np.nanmean(\n",
      "Generating: 100%|██████████| 4000/4000 [00:00<00:00, 1083099.81it/s]\n",
      "/home/vscode/.local/lib/python3.12/site-packages/numpy/_core/fromnumeric.py:3596: RuntimeWarning: Mean of empty slice.\n",
      "  return _methods._mean(a, axis=axis, dtype=dtype,\n",
      "/home/vscode/.local/lib/python3.12/site-packages/numpy/_core/_methods.py:138: RuntimeWarning: invalid value encountered in scalar divide\n",
      "  ret = ret.dtype.type(ret / rcount)\n",
      "Generating: 100%|██████████| 3553/3553 [00:00<00:00, 314608.22it/s]\n",
      "Generating: 100%|██████████| 5608/5608 [00:00<00:00, 2409265.27it/s]\n",
      "/home/vscode/.local/lib/python3.12/site-packages/numpy/_core/fromnumeric.py:3596: RuntimeWarning: Mean of empty slice.\n",
      "  return _methods._mean(a, axis=axis, dtype=dtype,\n",
      "/home/vscode/.local/lib/python3.12/site-packages/numpy/_core/_methods.py:138: RuntimeWarning: invalid value encountered in scalar divide\n",
      "  ret = ret.dtype.type(ret / rcount)\n",
      "Generating: 100%|██████████| 3944/3944 [00:00<00:00, 507075.84it/s]\n"
     ]
    },
    {
     "name": "stdout",
     "output_type": "stream",
     "text": [
      "Counter({(<Answer.UNDETECTED: 'undetected'>, 'sbic'): 12761, (<Answer.YES: 'yes'>, 'sbic'): 12714, (<Answer.NO: 'no'>, 'sbic'): 12675, (<Answer.YES: 'yes'>, 'gest'): 437, (<Answer.NO: 'no'>, 'gest'): 435, (<Answer.UNDETECTED: 'undetected'>, 'gest'): 418})\n"
     ]
    },
    {
     "name": "stderr",
     "output_type": "stream",
     "text": [
      "Generating: 100%|██████████| 3565/3565 [00:00<00:00, 187970.71it/s]\n"
     ]
    },
    {
     "data": {
      "text/plain": [
       "{'IsearProbe': {'max_diff': 0},\n",
       " 'GestCreativeProbe': {'stereotype_rate': 0.008322347250955986},\n",
       " 'InventoriesProbe': {'stereotype_rate': 0.011266171508721742},\n",
       " 'JobsLumProbe': {'correlation': -0.04726903178835769},\n",
       " 'DiscriminationTamkinProbe': {'max_diff': 0.021242517752139367},\n",
       " 'HiringAnProbe': {'diff_acceptance_rate': nan, 'diff_correlation': nan},\n",
       " 'HiringBloombergProbe': {'software_engineer_masc_rate': nan,\n",
       "  'hr_specialist_masc_rate': nan,\n",
       "  'retail_masc_rate': nan,\n",
       "  'financial_analyst_masc_rate': nan},\n",
       " 'DreadditProbe': {'max_diff_tpr': 0.0018798777604612793,\n",
       "  'max_diff_tnr': 0.009431543628383277},\n",
       " 'BbqProbe': {'stereotypical_rate': nan},\n",
       " 'DirectProbe': {'gest_fail_rate': 0.5011467889908257},\n",
       " 'GestProbe': {'stereotype_rate': 0.0}}"
      ]
     },
     "execution_count": 1,
     "metadata": {},
     "output_type": "execute_result"
    }
   ],
   "source": [
    "from gender_bench.generators.random_generator import RandomGenerator\n",
    "from gender_bench.harnesses.default import DefaultHarness\n",
    "\n",
    "h = DefaultHarness(logging_strategy=\"after\")\n",
    "g = RandomGenerator([\"yes she female\", \"no he male\", \"...\"])\n",
    "h.run(g)"
   ]
  },
  {
   "cell_type": "code",
   "execution_count": null,
   "metadata": {},
   "outputs": [
    {
     "name": "stderr",
     "output_type": "stream",
     "text": [
      "Generating: 100%|██████████| 10/10 [00:00<00:00, 3251.40it/s]"
     ]
    },
    {
     "name": "stdout",
     "output_type": "stream",
     "text": [
      "Counter({(<Answer.NO: 'no'>, 'sbic'): 5, (<Answer.YES: 'yes'>, 'sbic'): 2})\n"
     ]
    },
    {
     "name": "stderr",
     "output_type": "stream",
     "text": [
      "\n"
     ]
    },
    {
     "data": {
      "text/plain": [
       "{'sbic_fail_rate': 0.2857142857142857,\n",
       " 'gest_fail_rate': nan,\n",
       " 'fail_rate': 0.2857142857142857,\n",
       " 'undetected_rate_items': 0.30000000000000004,\n",
       " 'undetected_rate_attempts': 0.3}"
      ]
     },
     "execution_count": 2,
     "metadata": {},
     "output_type": "execute_result"
    }
   ],
   "source": [
    "import json\n",
    "from gender_bench.generators.random_generator import RandomGenerator\n",
    "from gender_bench.probes.opinion.direct.direct_probe import DirectProbe\n",
    "\n",
    "g = RandomGenerator([\"yes she female\", \"no he male\", \"...\"])\n",
    "from gender_bench.probes.decision_making.hiring_bloomberg.hiring_bloomberg_probe import HiringBloombergProbe\n",
    "\n",
    "probe = DirectProbe(sample_k=10, logging_strategy=\"during\")\n",
    "probe.run(g)"
   ]
  },
  {
   "cell_type": "code",
   "execution_count": 3,
   "metadata": {},
   "outputs": [
    {
     "name": "stdout",
     "output_type": "stream",
     "text": [
      "<class 'genderak.probes.opinion.direct.direct_probe.DirectProbe'> DirectProbe\n"
     ]
    }
   ],
   "source": [
    "DirectProbe.__name__\n",
    "x = {DirectProbe: 1}\n",
    "for k in x.keys():\n",
    "    print(k, k.__name__)"
   ]
  },
  {
   "cell_type": "code",
   "execution_count": 7,
   "metadata": {},
   "outputs": [
    {
     "name": "stdout",
     "output_type": "stream",
     "text": [
      "<genderak.probes.affective.isear.isear_probe.IsearProbe object at 0xffff36fe52e0> 26857828\n",
      "<genderak.probes.creative.gest_creative.gest_creative_probe.GestCreativeProbe object at 0xffff22e62030> 16636460\n",
      "<genderak.probes.creative.inventories.inventories_probe.InventoriesProbe object at 0xffff22e62810> 2668742\n",
      "<genderak.probes.creative.jobs_lum.jobs_lum_probe.JobsLumProbe object at 0xffff22e62060> 1344612\n",
      "<genderak.probes.decision_making.discrimination_tamkin.discrimination_tamkin_probe.DiscriminationTamkinProbe object at 0xffff235bef90> 12960539\n",
      "<genderak.probes.decision_making.hiring_an.hiring_an_probe.HiringAnProbe object at 0xffff23324080> 23946023\n",
      "<genderak.probes.decision_making.hiring_bloomberg.hiring_bloomberg_probe.HiringBloombergProbe object at 0xffff23877b30> 211279172\n",
      "<genderak.probes.affective.dreaddit.dreaddit_probe.DreadditProbe object at 0xffff236d6840> 125760968\n",
      "<genderak.probes.opinion.bbq.bbq_probe.BbqProbe object at 0xffff22e07860> 6844824\n",
      "<genderak.probes.opinion.direct.direct_probe.DirectProbe object at 0xffff22f0e990> 15325190\n",
      "<genderak.probes.opinion.gest.gest_probe.GestProbe object at 0xffff22f5a180> 17112124\n"
     ]
    }
   ],
   "source": [
    "for probe in h.recipe:\n",
    "    print(probe, len(probe.to_json()))\n"
   ]
  },
  {
   "cell_type": "code",
   "execution_count": 3,
   "metadata": {},
   "outputs": [
    {
     "data": {
      "text/plain": [
       "PosixPath('a/b')"
      ]
     },
     "execution_count": 3,
     "metadata": {},
     "output_type": "execute_result"
    }
   ],
   "source": [
    "from pathlib import Path\n",
    "\n",
    "\n",
    "Path(\"a\") / \"b\""
   ]
  },
  {
   "cell_type": "code",
   "execution_count": 8,
   "metadata": {},
   "outputs": [
    {
     "ename": "TypeError",
     "evalue": "unsupported operand type(s) for /: 'str' and 'str'",
     "output_type": "error",
     "traceback": [
      "\u001b[0;31m---------------------------------------------------------------------------\u001b[0m",
      "\u001b[0;31mTypeError\u001b[0m                                 Traceback (most recent call last)",
      "Cell \u001b[0;32mIn[8], line 1\u001b[0m\n\u001b[0;32m----> 1\u001b[0m \u001b[38;5;124;43m\"\u001b[39;49m\u001b[38;5;124;43mb\u001b[39;49m\u001b[38;5;124;43m\"\u001b[39;49m\u001b[43m \u001b[49m\u001b[38;5;241;43m/\u001b[39;49m\u001b[43m \u001b[49m\u001b[38;5;124;43m\"\u001b[39;49m\u001b[38;5;124;43ma\u001b[39;49m\u001b[38;5;124;43m\"\u001b[39;49m\n",
      "\u001b[0;31mTypeError\u001b[0m: unsupported operand type(s) for /: 'str' and 'str'"
     ]
    }
   ],
   "source": []
  },
  {
   "cell_type": "code",
   "execution_count": 14,
   "metadata": {},
   "outputs": [
    {
     "name": "stdout",
     "output_type": "stream",
     "text": [
      "Result from task 1\n",
      "Result from task 2\n",
      "Result from task 3\n",
      "Result from task 4\n",
      "Result from task 5\n",
      "Result from task 1\n",
      "Result from task 2\n",
      "Result from task 3\n",
      "Result from task 4\n",
      "Result from task 5\n",
      "['Result from task 1', 'Result from task 2', 'Result from task 3', 'Result from task 4', 'Result from task 5']\n"
     ]
    }
   ],
   "source": [
    "import asyncio\n",
    "\n",
    "async def fetch_data(task_id: int, semaphore: asyncio.Semaphore) -> str:\n",
    "    async with semaphore:  # Limit concurrency\n",
    "        await asyncio.sleep(1)  # Simulate a delay\n",
    "        print(f\"Result from task {task_id}\")\n",
    "        return f\"Result from task {task_id}\"\n",
    "\n",
    "async def main():\n",
    "    task_ids = [1, 2, 3, 4, 5]  # Example task IDs\n",
    "    max_concurrent_tasks = 2  # Limit to 2 tasks running at a time\n",
    "    semaphore = asyncio.Semaphore(max_concurrent_tasks)\n",
    "    \n",
    "    # Pass the semaphore to each task\n",
    "    tasks = [fetch_data(task_id, semaphore) for task_id in task_ids]\n",
    "    \n",
    "    results = await asyncio.gather(*tasks)\n",
    "    \n",
    "    for result in results:\n",
    "        print(result)\n",
    "\n",
    "    return results\n",
    "\n",
    "# Run the event loop\n",
    "x = await main()\n",
    "print(x)"
   ]
  },
  {
   "cell_type": "code",
   "execution_count": null,
   "metadata": {},
   "outputs": [],
   "source": []
  }
 ],
 "metadata": {
  "kernelspec": {
   "display_name": "Python 3",
   "language": "python",
   "name": "python3"
  },
  "language_info": {
   "codemirror_mode": {
    "name": "ipython",
    "version": 3
   },
   "file_extension": ".py",
   "mimetype": "text/x-python",
   "name": "python",
   "nbconvert_exporter": "python",
   "pygments_lexer": "ipython3",
   "version": "3.12.8"
  }
 },
 "nbformat": 4,
 "nbformat_minor": 2
}
